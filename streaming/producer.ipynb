{
 "cells": [
  {
   "cell_type": "code",
   "execution_count": null,
   "metadata": {},
   "outputs": [],
   "source": [
    "\n",
    "from kafka import KafkaProducer\n",
    "import pandas as pd\n",
    "import json\n",
    "import time\n",
    "\n",
    "def stream_csv(file_path, topic=\"stroke_data\", delay=0.1):\n",
    "    producer = KafkaProducer(\n",
    "        bootstrap_servers='localhost:9092',\n",
    "        value_serializer=lambda v: json.dumps(v).encode('utf-8')\n",
    "    )\n",
    "    df = pd.read_csv(file_path)\n",
    "    for _, row in df.iterrows():\n",
    "        producer.send(topic, row.to_dict())\n",
    "        print(f\"📤 Sent row to topic '{topic}': {row.to_dict()}\")\n",
    "        time.sleep(delay)\n",
    "\n",
    "    producer.flush()\n"
   ]
  }
 ],
 "metadata": {
  "kernelspec": {
   "display_name": "strokenv",
   "language": "python",
   "name": "python3"
  },
  "language_info": {
   "codemirror_mode": {
    "name": "ipython",
    "version": 3
   },
   "file_extension": ".py",
   "mimetype": "text/x-python",
   "name": "python",
   "nbconvert_exporter": "python",
   "pygments_lexer": "ipython3",
   "version": "3.10.13"
  }
 },
 "nbformat": 4,
 "nbformat_minor": 2
}
